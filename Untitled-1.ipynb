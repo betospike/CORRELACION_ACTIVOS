{
 "cells": [
  {
   "cell_type": "markdown",
   "id": "6118f34f",
   "metadata": {},
   "source": [
    "# Importar Librerías Necesarias\n",
    "Importar las librerías requeridas como pandas, matplotlib y seaborn para la visualización de datos."
   ]
  },
  {
   "cell_type": "code",
   "execution_count": null,
   "id": "15a636e7",
   "metadata": {},
   "outputs": [],
   "source": [
    "# Importar Librerías Necesarias\n",
    "import pandas as pd\n",
    "import matplotlib.pyplot as plt\n",
    "import seaborn as sns"
   ]
  },
  {
   "cell_type": "markdown",
   "id": "6ce838a4",
   "metadata": {},
   "source": [
    "# Cargar Datos de df_Adj_close\n",
    "Asegurarse de que el DataFrame `df_Adj_close` esté cargado correctamente y verificar su estructura con métodos como `.head()`."
   ]
  },
  {
   "cell_type": "code",
   "execution_count": null,
   "id": "fc34037c",
   "metadata": {},
   "outputs": [],
   "source": [
    "# Cargar Datos de df_Adj_close\n",
    "# Supongamos que el DataFrame df_Adj_close ya está disponible en el entorno\n",
    "print(df_Adj_close.head())"
   ]
  },
  {
   "cell_type": "markdown",
   "id": "14ecde64",
   "metadata": {},
   "source": [
    "# Graficar Precios Ajustados\n",
    "Usar matplotlib para crear un gráfico de líneas que muestre los precios ajustados de los activos en el tiempo."
   ]
  },
  {
   "cell_type": "code",
   "execution_count": null,
   "id": "212569a1",
   "metadata": {},
   "outputs": [],
   "source": [
    "# Graficar Precios Ajustados\n",
    "plt.figure(figsize=(12, 6))\n",
    "for column in df_Adj_close.columns:\n",
    "    plt.plot(df_Adj_close.index, df_Adj_close[column], label=column)"
   ]
  },
  {
   "cell_type": "markdown",
   "id": "2ba3e844",
   "metadata": {},
   "source": [
    "# Personalizar el Gráfico\n",
    "Agregar títulos, etiquetas de ejes, leyendas y ajustar el tamaño del gráfico para mejorar la presentación."
   ]
  },
  {
   "cell_type": "code",
   "execution_count": null,
   "id": "ee59ee73",
   "metadata": {},
   "outputs": [],
   "source": [
    "# Personalizar el Gráfico\n",
    "plt.title('Precios Ajustados de Activos en el Tiempo', fontsize=16)\n",
    "plt.xlabel('Fecha', fontsize=12)\n",
    "plt.ylabel('Precio Ajustado', fontsize=12)\n",
    "plt.legend(loc='upper left', fontsize=10)\n",
    "plt.grid(True)\n",
    "plt.tight_layout()"
   ]
  },
  {
   "cell_type": "markdown",
   "id": "b67cb1bf",
   "metadata": {},
   "source": [
    "# Guardar el Gráfico\n",
    "Guardar el gráfico generado como un archivo de imagen utilizando `plt.savefig()`."
   ]
  },
  {
   "cell_type": "code",
   "execution_count": null,
   "id": "38d1ada9",
   "metadata": {},
   "outputs": [],
   "source": [
    "# Guardar el Gráfico\n",
    "plt.savefig('Precios_Ajustados_Activos.png', dpi=300)\n",
    "plt.show()"
   ]
  }
 ],
 "metadata": {
  "language_info": {
   "name": "python"
  }
 },
 "nbformat": 4,
 "nbformat_minor": 5
}
